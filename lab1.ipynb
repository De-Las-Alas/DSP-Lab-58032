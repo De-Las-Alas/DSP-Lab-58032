{
 "cells": [
  {
   "cell_type": "code",
   "execution_count": 1,
   "id": "4ec722e9-19f5-47c3-b942-6518f8f6dd36",
   "metadata": {},
   "outputs": [],
   "source": [
    "import numpy\n",
    "import matplotlib as plt"
   ]
  },
  {
   "cell_type": "code",
   "execution_count": 19,
   "id": "1978f800-55ff-41df-8882-fe7ab52298e3",
   "metadata": {},
   "outputs": [
    {
     "name": "stdin",
     "output_type": "stream",
     "text": [
      "Enter Student Name:  RJD\n",
      "Enter Student Number:  123\n",
      "Enter Prelim Grade:  90.99\n",
      "Enter Midterm Grade:  80.01\n",
      "Enter Final Grade:  70.35\n"
     ]
    },
    {
     "name": "stdout",
     "output_type": "stream",
     "text": [
      "Great news,  RJD ! 😀\n",
      "You're Average with a Semestral Grade of:  77.0\n",
      "Grade Point: 2.25\n",
      "Letter Equivalent: C+\n"
     ]
    }
   ],
   "source": [
    "x = str(input(\"Enter Student Name: \"))\n",
    "y = str(input(\"Enter Student Number: \"))\n",
    "\n",
    "a = float(input(\"Enter Prelim Grade: \"))\n",
    "b = float(input(\"Enter Midterm Grade: \"))\n",
    "c = float(input(\"Enter Final Grade: \"))\n",
    "\n",
    "pg = round(a*0.30, 3)\n",
    "mg = round(b*0.30, 3)\n",
    "fg = round(c*0.40, 3)\n",
    "\n",
    "sg = pg+mg+fg;\n",
    "\n",
    "sgfn = str(round(sg, 2))\n",
    "\n",
    "if sg > 70.99:\n",
    "    print(\"Great news, \", x, \"! \\U0001F600\")\n",
    "    if sg > 70.99 and sg <= 73.00:\n",
    "        print(\"You Passed with a Semestral Grade of: \", sgfn, \"0\")\n",
    "        print(\"Grade Point: 3.00\")\n",
    "        print(\"Letter Equivalent: D\")\n",
    "    elif sg > 72.99 and sg <= 75.00:\n",
    "        print(\"You Passed with a Semestral Grade of: \", sgfn, \"0\")\n",
    "        print(\"Grade Point: 2.75\")\n",
    "        print(\"Letter Equivalent: C-\")\n",
    "    elif sg > 75.99 and sg <= 78.00:\n",
    "        print(\"You Passed with a Semestral Grade of: \", sgfn, \"0\")\n",
    "        print(\"Grade Point: 2.50\")\n",
    "        print(\"Letter Equivalent: C\")\n",
    "    elif sg > 78.99 and sg <= 81.00:\n",
    "        print(\"You're Average with a Semestral Grade of: \", sgfn, \"0\")\n",
    "        print(\"Grade Point: 2.25\")\n",
    "        print(\"Letter Equivalent: C+\")\n",
    "    elif sg > 81.99 and sg <= 85.00:\n",
    "        print(\"You're Average with a Semestral Grade of: \", sgfn, \"0\")\n",
    "        print(\"Grade Point: 2.00\")\n",
    "        print(\"Letter Equivalent: B-\")\n",
    "    elif sg > 85.99 and sg <= 88.00:\n",
    "        print(\"You're Average with a Semestral Grade of: \", sgfn, \"0\")\n",
    "        print(\"Grade Point: 1.75\")\n",
    "        print(\"Letter Equivalent: B\")\n",
    "    elif sg > 88.99 and sg <= 92.00:\n",
    "        print(\"You're Superior with a Semestral Grade of: \", sgfn, \"0\")\n",
    "        print(\"Grade Point: 1.50\")\n",
    "        print(\"Letter Equivalent: B+\")\n",
    "    elif sg > 92.99 and sg <= 96.00:\n",
    "        print(\"You're Superior with a Semestral Grade of: \", sgfn, \"0\")\n",
    "        print(\"Grade Point: 1.25\")\n",
    "        print(\"Letter Equivalent: A-\")\n",
    "    elif sg > 96.99 and sg <= 100.00:\n",
    "        print(\"You're Excellent with a Semestral Grade of: \", sgfn, \"0\")\n",
    "        print(\"Grade Point: 1.00\")\n",
    "        print(\"Letter Equivalent: A\")\n",
    "    else:\n",
    "        print(\"Computation Error; Input must be Valid.\")\n",
    "elif sg < 70.99 and sg >= 70.00:\n",
    "    print(\"Good news, \", x, \"! \\U0001F606\")\n",
    "    print(\"You Passed with a Semestral Grade of: \", sgfn, \"0\")\n",
    "    print(\"Grade Point: 3.00\")\n",
    "    print(\"Letter Equivalent: D\")\n",
    "elif sg < 70.00:\n",
    "    print(\"Bad news, \", x, \"... \\U0001F62D\")\n",
    "    print(\"You Failed with a Semestral Grade of: \", sgfn, \"0\")\n",
    "    print(\"Grade Point: 5.00\")\n",
    "    print(\"Letter Equivalent: F\")\n",
    "else:\n",
    "    print(\"Computation Error; Input must be Valid.\")"
   ]
  },
  {
   "cell_type": "code",
   "execution_count": null,
   "id": "3a825a93-299e-4712-826e-0966b086d932",
   "metadata": {},
   "outputs": [],
   "source": []
  }
 ],
 "metadata": {
  "kernelspec": {
   "display_name": "Python 3 (ipykernel)",
   "language": "python",
   "name": "python3"
  },
  "language_info": {
   "codemirror_mode": {
    "name": "ipython",
    "version": 3
   },
   "file_extension": ".py",
   "mimetype": "text/x-python",
   "name": "python",
   "nbconvert_exporter": "python",
   "pygments_lexer": "ipython3",
   "version": "3.13.5"
  }
 },
 "nbformat": 4,
 "nbformat_minor": 5
}
